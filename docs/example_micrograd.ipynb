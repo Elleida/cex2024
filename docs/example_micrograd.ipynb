{
  "nbformat": 4,
  "nbformat_minor": 0,
  "metadata": {
    "colab": {
      "provenance": []
    },
    "kernelspec": {
      "name": "python3",
      "display_name": "Python 3"
    },
    "language_info": {
      "name": "python"
    }
  },
  "cells": [
    {
      "cell_type": "code",
      "execution_count": null,
      "metadata": {
        "id": "0vjiseYBNc1_"
      },
      "outputs": [],
      "source": [
        "!wget dihana.cps.unizar.es/~alfonso/example_micrograd.tar.gz\n",
        "!tar -xvzf example_micrograd.tar.gz\n",
        "!rm example_micrograd.tar.gz"
      ]
    },
    {
      "cell_type": "code",
      "source": [
        "from graphviz import Digraph\n",
        "from micrograd.engine import Value\n",
        "from utils import draw_dot"
      ],
      "metadata": {
        "id": "23zfAbt0TiD6"
      },
      "execution_count": null,
      "outputs": []
    },
    {
      "cell_type": "markdown",
      "source": [
        "###FORWARD PASS"
      ],
      "metadata": {
        "id": "Z4r3pMIBWLjv"
      }
    },
    {
      "cell_type": "code",
      "source": [
        "# a very simple example"
      ],
      "metadata": {
        "id": "cotafgb0Wm-n"
      },
      "execution_count": null,
      "outputs": []
    },
    {
      "cell_type": "code",
      "source": [
        "draw_dot(L)"
      ],
      "metadata": {
        "id": "4g27oMh0W35S"
      },
      "execution_count": null,
      "outputs": []
    },
    {
      "cell_type": "code",
      "source": [
        "e._prev"
      ],
      "metadata": {
        "id": "LJO4lTGyW8IB"
      },
      "execution_count": null,
      "outputs": []
    },
    {
      "cell_type": "markdown",
      "source": [
        "### BACKWARD PASS"
      ],
      "metadata": {
        "id": "OQM-puBOXP7t"
      }
    },
    {
      "cell_type": "code",
      "source": [
        "# manual differentiation\n",
        "L.grad = 1.0\n"
      ],
      "metadata": {
        "id": "q1aYMHCvXhG_"
      },
      "execution_count": null,
      "outputs": []
    },
    {
      "cell_type": "code",
      "source": [
        "draw_dot(L)"
      ],
      "metadata": {
        "id": "cLT_bWPbX6G8"
      },
      "execution_count": null,
      "outputs": []
    },
    {
      "cell_type": "code",
      "source": [
        "# automatic differentiation\n"
      ],
      "metadata": {
        "id": "7hfXMT_nYKzB"
      },
      "execution_count": null,
      "outputs": []
    },
    {
      "cell_type": "code",
      "source": [
        "draw_dot(L)"
      ],
      "metadata": {
        "id": "_of7VRfsY0TU"
      },
      "execution_count": null,
      "outputs": []
    }
  ]
}